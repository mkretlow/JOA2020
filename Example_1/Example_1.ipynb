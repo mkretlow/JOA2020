{
 "cells": [
  {
   "cell_type": "markdown",
   "metadata": {},
   "source": [
    "# Example 1: Adding Magnitudes"
   ]
  },
  {
   "cell_type": "code",
   "execution_count": 1,
   "metadata": {
    "scrolled": true
   },
   "outputs": [
    {
     "name": "stdout",
     "output_type": "stream",
     "text": [
      "Hello world, this is Python\n",
      "\n",
      "pmag = 14.5, smag = 12.5: combined magnitude is 12.34 (star is brighter than planet)\n",
      "pmag = 14.5, smag = 14.5: combined magnitude is 13.75 (star is equal bright as planet)\n",
      "pmag = 14.5, smag = 15.9: combined magnitude is 14.24 (star is fainter than planet)\n",
      "\n",
      "Have a nice day !\n"
     ]
    }
   ],
   "source": [
    "from math import log10\n",
    "\n",
    "# This function adds two magnitude values given as arguments x and y. \n",
    "# The result res is returned to the caller.\n",
    "def addmag(x,y):\n",
    "    res = -2.5*log10(10**(-x*0.4) + 10**(-y*0.4) )\n",
    "    return res\n",
    "    \n",
    "# The main program (script) starts here   \n",
    "print(\"Hello world, this is Python\\n\")\n",
    "\n",
    "# A single float value stored in a variable named pmag\n",
    "pmag = 14.5\n",
    "\n",
    "# A list of float values stored in a variable named smag\n",
    "smag = [12.5, 14.5, 15.9]\n",
    "\n",
    "# Loop over all values given in the list smag. The current value is assigned to the variable mag.\n",
    "for mag in smag:\n",
    "\n",
    "    # Compare values and execute conditional statements (assign a string to variable cmt)\n",
    "    if mag < pmag: \n",
    "        cmt = \"star is brighter than planet\"\n",
    "    elif mag > pmag: \n",
    "        cmt = \"star is fainter than planet\"\n",
    "    elif mag == pmag:\n",
    "        cmt = \"star is equal bright as planet\"\n",
    "            \n",
    "    # Compute combined magnitude of pmag and the current loop value\n",
    "    cmag = addmag(pmag,mag)\n",
    "    \n",
    "    # Print result using a Format-String (f-string)\n",
    "    print(f\"pmag = {pmag}, smag = {mag}: combined magnitude is {cmag:0.2f} ({cmt})\")\n",
    "\n",
    "# Loop body ends here because of indentation level\n",
    "print(\"\\nHave a nice day !\")"
   ]
  }
 ],
 "metadata": {
  "kernelspec": {
   "display_name": "venv38",
   "language": "python",
   "name": "venv38"
  },
  "language_info": {
   "codemirror_mode": {
    "name": "ipython",
    "version": 3
   },
   "file_extension": ".py",
   "mimetype": "text/x-python",
   "name": "python",
   "nbconvert_exporter": "python",
   "pygments_lexer": "ipython3",
   "version": "3.8.2"
  }
 },
 "nbformat": 4,
 "nbformat_minor": 2
}
