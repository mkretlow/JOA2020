{
 "cells": [
  {
   "cell_type": "markdown",
   "metadata": {},
   "source": [
    "# Example 3: Parse OW Feeds"
   ]
  },
  {
   "cell_type": "code",
   "execution_count": 1,
   "metadata": {},
   "outputs": [],
   "source": [
    "# Import packages\n",
    "import os\n",
    "import sqlite3\n",
    "import requests\n",
    "import numpy as np\n",
    "import pandas as pd\n",
    "from bs4 import BeautifulSoup"
   ]
  },
  {
   "cell_type": "code",
   "execution_count": 2,
   "metadata": {},
   "outputs": [
    {
     "data": {
      "text/html": [
       "<style>.container { width:80% !important; }</style>"
      ],
      "text/plain": [
       "<IPython.core.display.HTML object>"
      ]
     },
     "metadata": {},
     "output_type": "display_data"
    }
   ],
   "source": [
    "# Increase output width to better display the table of events\n",
    "from IPython.core.display import display, HTML\n",
    "display(HTML(\"<style>.container { width:80% !important; }</style>\"))\n",
    "\n",
    "pd.set_option('display.max_columns', 50)\n",
    "pd.set_option('display.width', 1000)"
   ]
  },
  {
   "cell_type": "code",
   "execution_count": 3,
   "metadata": {
    "scrolled": true
   },
   "outputs": [],
   "source": [
    "# This class parses an HTML Table which is given on an OW feed web page, with a certain structure, like in UKOCL\n",
    "\n",
    "class HTMLTableParser:\n",
    "   \n",
    "    def parse_url(self, url, find_col_names = False):\n",
    "        response = requests.get(url)\n",
    "        soup = BeautifulSoup(response.content, 'html.parser')\n",
    "\n",
    "        return [(table['id'],self.parse_html_table(table,find_col_names))\\\n",
    "                for table in soup.find_all('table')]  \n",
    "\n",
    "\n",
    "    def parse_html_table(self, table, find_col_names):\n",
    "\n",
    "        column_names = ['Event', 'AstNo', 'AstName', 'StarName', 'StarMag', 'Dur', 'MagDrop', \n",
    "                        'DTFrom', 'DTTo', 'SunDist', 'MoonDist', 'MoonIll', 'StarRA', 'StarDE', \n",
    "                        'Path', 'Details' ]\n",
    "\n",
    "        n_columns = 0\n",
    "        n_rows=0\n",
    "        \n",
    "        if find_col_names : column_names = [] \n",
    "\n",
    "        # Find number of rows and columns. Also try to find the column titles\n",
    "        for row in table.find_all('tr'):\n",
    "            \n",
    "            # Determine the number of rows in the table\n",
    "            td_tags = row.find_all('td')\n",
    "            if len(td_tags) > 0:\n",
    "                n_rows+=1\n",
    "                if n_columns == 0:\n",
    "                    # Set the number of columns for our table\n",
    "                    n_columns = len(td_tags)\n",
    "                    \n",
    "            # Handle column names if we find them (and if find_col_names is True)\n",
    "            if find_col_names:\n",
    "                th_tags = row.find_all('th') \n",
    "                if len(th_tags) > 0 and len(column_names) == 0:\n",
    "                    for th in th_tags:\n",
    "                        column_names.append(th.get_text(strip=True))\n",
    "\n",
    "        # Safeguard on Column Titles\n",
    "        if len(column_names) > 0 and len(column_names) != n_columns:\n",
    "            raise Exception(\"Column titles do not match the number of columns\")\n",
    "\n",
    "        columns = column_names if len(column_names) > 0 else range(0,n_columns)\n",
    "        \n",
    "        df = pd.DataFrame(columns = columns, index= range(0,n_rows))\n",
    "        \n",
    "        row_marker = 0\n",
    "        \n",
    "        for row in table.find_all('tr'):\n",
    "            column_marker = 0\n",
    "            columns = row.find_all('td')\n",
    "            for column in columns:\n",
    "                href = ''\n",
    "                for anchor in column.findAll('a'):\n",
    "                    href = anchor['href']\n",
    "                if href:\n",
    "                    df.iat[row_marker,column_marker] = href\n",
    "                else:\n",
    "                    df.iat[row_marker,column_marker] = column.get_text(strip=True)\n",
    "                column_marker += 1\n",
    "            if len(columns) > 0:\n",
    "                row_marker += 1\n",
    "                \n",
    "        # Convert some columns to integer if possible\n",
    "        for col in [ 'SunDist', 'MoonDist', 'MoonIll']:\n",
    "            try:\n",
    "                df[col] = df[col].astype(int)\n",
    "            except ValueError:\n",
    "                print(\"Step 1: Cannot convert\")\n",
    "                pass\n",
    "\n",
    "\n",
    "        # Convert some columns to float if possible\n",
    "        for col in [ 'StarMag', 'Dur', 'MagDrop']:\n",
    "            try:\n",
    "                df[col] = df[col].astype(float)\n",
    "            except ValueError:\n",
    "                print(\"Step 2: Cannot convert\")                \n",
    "                pass\n",
    "        \n",
    "        \n",
    "        return df\n"
   ]
  },
  {
   "cell_type": "code",
   "execution_count": null,
   "metadata": {
    "scrolled": false
   },
   "outputs": [
    {
     "name": "stdout",
     "output_type": "stream",
     "text": [
      "\n",
      "Quering feed : IBEROC"
     ]
    }
   ],
   "source": [
    "# Integer in python/pandas becomes BLOB (binary) in sqlite => handle this\n",
    "sqlite3.register_adapter(np.int64, int)\n",
    "sqlite3.register_adapter(np.int32, int)\n",
    "\n",
    "# Create SQLite Database\n",
    "con = sqlite3.connect('owfeeds.sqlite')\n",
    "cur = con.cursor()\n",
    "\n",
    "table = 'feed_events'\n",
    "\n",
    "cur.execute('DROP TABLE IF EXISTS %s' % table)\n",
    "\n",
    "cur.execute(\"CREATE TABLE feed_events (Id INTEGER, DateUT TEXT, AstNo TEXT, AstName TEXT, StarName TEXT, \\\n",
    "            StarMag REAL, Dur REAL, MagDrop REAL, DTFrom TEXT, DTTo TEXT, SunDist INTEGER, MoonDist INTEGER, \\\n",
    "            MoonIll INTEGER, StarRA TEXT, StarDE TEXT, Path TEXT, Details TEXT, Feed TEXT)\")\n",
    "\n",
    "con.commit()\n",
    "\n",
    "\n",
    "# Some OW feeds we want to parse\n",
    "feeds = {\n",
    "    'IBEROC'    : \"http://ocultacions.astrosabadell.org/IBEROC/\",\n",
    "    'UKOCL'     : \"http://ukoccultations.info/UKOCL/\", \n",
    "    'Lucky-Star': \"https://lesia.obspm.fr/lucky-star/feed/\",\n",
    "    'COMETOC'   : \"http://ocultacions.astrosabadell.org/COMETOC/\",\n",
    "}\n",
    "\n",
    "    \n",
    "for feed, url in feeds.items():\n",
    "\n",
    "    print(f\"\\nQuering feed : {feed}\", end='')\n",
    "\n",
    "    hp = HTMLTableParser()\n",
    "\n",
    "    try:\n",
    "        df = hp.parse_url(url)[0][1] # Grab the first table from the tuple\n",
    "        print(f\" => number of events = {len(df)}\\n\")\n",
    "        df['Id'] = df.index + 1\n",
    "        df['Date'] = '20' + df['Event'].str[0:2] + '-' + df['Event'].str[2:4] + '-' + df['Event'].str[4:6]\n",
    "        df['Path'] = url + df['Path']\n",
    "        df['Details'] = url + df['Details']\n",
    "        df['Feed'] = feed\n",
    "\n",
    "        # Print some fields (columns) of the first entries (rows) of each feed\n",
    "        # print(df.iloc[:,[0,1,2,3,4,5,6,7,8,9,10,11,12,13,]].head())\n",
    "        print(df.iloc[:,[0,1,2,3,4,5,6,9,10,11,12,13]].head())\n",
    "\n",
    "        # Write events into the SQLite database\n",
    "        try:\n",
    "            cur.executemany(\"\"\"INSERT INTO feed_events (\n",
    "                            Id, DateUT, AstNo, AstName, StarName, StarMag, Dur, MagDrop,\n",
    "                            DTFrom, DTTo, SunDist, MoonDist, MoonIll, StarRA, StarDE, Path, Details, Feed) \n",
    "                            VALUES (?,?,?,?,?,?,?,?,?,?,?,?,?,?,?,?,?,?)\"\"\",\n",
    "                            \n",
    "                            list(df[['Id', 'Date', 'AstNo', 'AstName', 'StarName', 'StarMag', 'Dur', 'MagDrop', \n",
    "                                     'DTFrom', 'DTTo', 'SunDist', 'MoonDist', 'MoonIll', 'StarRA', 'StarDE', \n",
    "                                     'Path', 'Details', 'Feed']].to_records(\n",
    "                            index=False,column_dtypes={ 'Id': 'object', 'Date' : 'object', 'AstNo': 'object', 'AstName': 'object',\n",
    "                                           'StarName' : 'object', 'StarMag' : 'float', 'Dur' : 'float', 'MagDrop' : 'float', \n",
    "                                           'DTFrom' : 'object', 'DTTo' : 'object', 'SunDist' : 'int', 'MoonDist' : 'int', \n",
    "                                           'MoonIll' : 'int', 'StarRA' : 'object', 'StarDE' : 'object', 'Path': 'object', \n",
    "                                           'Details': 'object', 'Feed' : 'object'  })))\n",
    "\n",
    "        except:\n",
    "            pass\n",
    "\n",
    "        con.commit()\n",
    "\n",
    "    except KeyError:\n",
    "        pass\n"
   ]
  }
 ],
 "metadata": {
  "kernelspec": {
   "display_name": "Python 3",
   "language": "python",
   "name": "python3"
  },
  "language_info": {
   "codemirror_mode": {
    "name": "ipython",
    "version": 3
   },
   "file_extension": ".py",
   "mimetype": "text/x-python",
   "name": "python",
   "nbconvert_exporter": "python",
   "pygments_lexer": "ipython3",
   "version": "3.8.3"
  }
 },
 "nbformat": 4,
 "nbformat_minor": 4
}
