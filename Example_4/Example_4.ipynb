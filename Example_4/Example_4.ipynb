{
 "cells": [
  {
   "cell_type": "markdown",
   "metadata": {},
   "source": [
    "# Example 4: query star catalog data from Vizier\n",
    "\n",
    "(435) Ella / HIP 77369 event on 2020 Jun 09, 23:54 UT\n",
    "\n",
    "Astrometric position with proper motion and parallax to date of event: RA: 15 47 37.6405  DE: -22 05 20.675"
   ]
  },
  {
   "cell_type": "code",
   "execution_count": 1,
   "metadata": {},
   "outputs": [],
   "source": [
    "# Import packages\n",
    "import numpy as np\n",
    "import matplotlib.pyplot as plt"
   ]
  },
  {
   "cell_type": "code",
   "execution_count": 2,
   "metadata": {},
   "outputs": [],
   "source": [
    "from astropy import units as u\n",
    "from astropy.coordinates import SkyCoord\n",
    "from astroquery.vizier import Vizier\n",
    "from astropy.coordinates import Angle"
   ]
  },
  {
   "cell_type": "code",
   "execution_count": 3,
   "metadata": {},
   "outputs": [],
   "source": [
    "# Which catalog columns do we want ?\n",
    "v1 = Vizier(columns=['DR2Name','_RAJ2000', '_DEJ2000', 'Gmag'], column_filters={\"Gmag\":\"<12\"})\n",
    "v2 = Vizier(columns=['HIP', '_RAJ2000','_DEJ2000', 'Vmag'])\n",
    "v3 = Vizier(columns=['UCAC4','RAJ2000', 'DEJ2000', 'Vmag', 'Rmag'])\n",
    "v4 = Vizier(columns=['SrcIDgaia','RAJ2000', 'DEJ2000', 'Gmag', 'Rmag'])"
   ]
  },
  {
   "cell_type": "code",
   "execution_count": 4,
   "metadata": {},
   "outputs": [],
   "source": [
    "# Query position for star search\n",
    "c = SkyCoord(\"15h47m37.6s\",\"-22d05m21s\", frame=\"icrs\")\n",
    "#c.to_string('hmsdms')"
   ]
  },
  {
   "cell_type": "code",
   "execution_count": 5,
   "metadata": {},
   "outputs": [],
   "source": [
    "# Search radius in arcs\n",
    "srad = 5"
   ]
  },
  {
   "cell_type": "code",
   "execution_count": 6,
   "metadata": {},
   "outputs": [
    {
     "name": "stdout",
     "output_type": "stream",
     "text": [
      "1 1 1 1\n"
     ]
    }
   ],
   "source": [
    "# Do the Vizier query\n",
    "qres1 = v1.query_region(c, width=srad*u.arcsec, catalog=\"I/345/gaia2\")\n",
    "qres2 = v2.query_region(c, width=srad*u.arcsec, catalog=\"I/239/hip_main\")\n",
    "qres3 = v3.query_region(c, width=srad*u.arcsec, catalog=\"I/322A/out\")\n",
    "qres4 = v4.query_region(c, width=srad*u.arcsec, catalog=\"I/340/ucac5\")\n",
    "\n",
    "# How many hits do we have for each catalog ? Should be one for each catalog\n",
    "print(len(qres1[0]),len(qres2[0]),len(qres3[0]),len(qres4[0]))"
   ]
  },
  {
   "cell_type": "code",
   "execution_count": 7,
   "metadata": {
    "scrolled": false
   },
   "outputs": [
    {
     "name": "stdout",
     "output_type": "stream",
     "text": [
      "          DR2Name                 _RAJ2000          _DEJ2000       Gmag \n",
      "                                    deg               deg          mag  \n",
      "---------------------------- ----------------- ----------------- -------\n",
      "Gaia DR2 6240616210127916928 236.9069932908804 -22.0890724701001 10.4348\n",
      "\n",
      "\n",
      " HIP     _RAJ2000       _DEJ2000     Vmag\n",
      "           deg            deg        mag \n",
      "----- -------------- -------------- -----\n",
      "77369 236.9070081501 -22.0890738267 11.01\n",
      "\n",
      "\n",
      "  UCAC4      RAJ2000     DEJ2000    Vmag \n",
      "               deg         deg      mag  \n",
      "---------- ----------- ----------- ------\n",
      "340-076320 236.9069903 -22.0890709 11.584\n",
      "\n",
      "\n",
      "     SrcIDgaia        RAJ2000     DEJ2000    Gmag   Rmag \n",
      "                        deg         deg      mag    mag  \n",
      "------------------- ----------- ----------- ------ ------\n",
      "6240616205830161792 236.9069992 -22.0890700 10.286 10.390\n",
      "\n",
      "\n"
     ]
    }
   ],
   "source": [
    "# Print the derived catalog data\n",
    "print(qres1[0]); print(\"\\n\")\n",
    "print(qres2[0]); print(\"\\n\")\n",
    "print(qres3[0]); print(\"\\n\")\n",
    "print(qres4[0]); print(\"\\n\")"
   ]
  },
  {
   "cell_type": "code",
   "execution_count": 8,
   "metadata": {},
   "outputs": [],
   "source": [
    "# Extract the coordinates\n",
    "ra1,de1 = (qres1[0][0]['_RAJ2000'] ,qres1[0][0]['_DEJ2000'])\n",
    "ra2,de2 = (qres2[0][0]['_RAJ2000'] ,qres2[0][0]['_DEJ2000'])\n",
    "ra3,de3 = (qres3[0][0]['RAJ2000'] ,qres3[0][0]['DEJ2000'])\n",
    "ra4,de4 = (qres4[0][0]['RAJ2000'] ,qres4[0][0]['DEJ2000'])"
   ]
  },
  {
   "cell_type": "code",
   "execution_count": 9,
   "metadata": {
    "scrolled": true
   },
   "outputs": [],
   "source": [
    "# Convert them to SkyCoord objects \n",
    "c1 = SkyCoord(ra1,de1, unit='deg', frame='icrs')\n",
    "c2 = SkyCoord(ra2,de2, unit='deg', frame='icrs')\n",
    "c3 = SkyCoord(ra3,de3, unit='deg', frame='icrs')\n",
    "c4 = SkyCoord(ra4,de4, unit='deg', frame='icrs')"
   ]
  },
  {
   "cell_type": "code",
   "execution_count": 10,
   "metadata": {
    "scrolled": false
   },
   "outputs": [
    {
     "data": {
      "image/png": "[encoded data removed]",
      "text/plain": [
       "<Figure size 432x432 with 1 Axes>"
      ]
     },
     "metadata": {
      "needs_background": "light"
     },
     "output_type": "display_data"
    }
   ],
   "source": [
    "# Plot the  result\n",
    "plt.rcParams['figure.figsize'] = 6,6\n",
    "\n",
    "# Use Gaia DR2 position as center \n",
    "c = c1\n",
    "\n",
    "c_ra = float(c.ra/u.deg)\n",
    "c_de = float(c.dec/u.deg)\n",
    "\n",
    "ra=np.asarray([ra1,ra2,ra3,ra4])\n",
    "de=np.asarray([de1,de2,de3,de4])\n",
    "\n",
    "x = 360000*np.sqrt((ra-c_ra)**2)\n",
    "y = 360000*np.sqrt((de-c_de)**2)\n",
    "\n",
    "plt.scatter(x[0],y[0], c='red', marker='*', lw=3, label='GDR2')\n",
    "plt.scatter(x[1],y[1], c='blue', marker='*', lw=3, label='HIP')\n",
    "plt.scatter(x[2],y[2], c='green', marker='*', lw=3, label='UCAC4')\n",
    "plt.scatter(x[3],y[3], c='brown', marker='*', lw=3, label='UCAC5')\n",
    "plt.ylim([-y.max()*1.2, y.max()*1.2])\n",
    "plt.xlim([-x.max()*1.2, x.max()*1.2])\n",
    "\n",
    "plt.grid()\n",
    "plt.legend(loc='lower left')\n",
    "plt.xlabel(\"RA Distance in mas\")\n",
    "plt.ylabel(\"DE Distance in mas\")\n",
    "plt.savefig(\"example_4.pdf\")"
   ]
  },
  {
   "cell_type": "code",
   "execution_count": null,
   "metadata": {},
   "outputs": [],
   "source": []
  }
 ],
 "metadata": {
  "kernelspec": {
   "display_name": "Python 3",
   "language": "python",
   "name": "python3"
  },
  "language_info": {
   "codemirror_mode": {
    "name": "ipython",
    "version": 3
   },
   "file_extension": ".py",
   "mimetype": "text/x-python",
   "name": "python",
   "nbconvert_exporter": "python",
   "pygments_lexer": "ipython3",
   "version": "3.8.3"
  }
 },
 "nbformat": 4,
 "nbformat_minor": 2
}
